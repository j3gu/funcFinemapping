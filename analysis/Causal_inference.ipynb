{
 "cells": [
  {
   "cell_type": "markdown",
   "id": "3ee95a98-a570-4148-8831-baa76a0d1814",
   "metadata": {},
   "source": [
    "# Causal Inference\n",
    "\n",
    "## Mendelian Randomization"
   ]
  },
  {
   "cell_type": "markdown",
   "id": "e304bde9-6285-4196-8498-709d5ef24b1c",
   "metadata": {},
   "source": [
    "Notes from lab meetings:\n",
    "\n",
    "* For non-causal paths, we can ignore directions. \n",
    "* Confounders are factors that affect both exposure and outcome.\n",
    "* To check for any non-causal path, we can examine the backdoor path by going backward from outcome until blocked by a collider. \n",
    "* A collider has two causal arrows pointing towards it, meaning two independent components causally affect the collider.\n",
    "    \n",
    "* Types of MRs\n",
    "    * one-sample MR: Instrument variables and outcome from the same population\n",
    "    * two-sample MR: Use one dataset to build predictive models and then do causal inference on a separate dataset"
   ]
  },
  {
   "cell_type": "markdown",
   "id": "9163fc8e-9dfa-428d-b8e3-2a6ebf1d3b49",
   "metadata": {},
   "source": [
    "## how to interpret results?\n",
    "\n"
   ]
  }
 ],
 "metadata": {
  "kernelspec": {
   "display_name": "Python [conda env:jupyterlab-ext] *",
   "language": "python",
   "name": "conda-env-jupyterlab-ext-py"
  },
  "language_info": {
   "codemirror_mode": {
    "name": "ipython",
    "version": 3
   },
   "file_extension": ".py",
   "mimetype": "text/x-python",
   "name": "python",
   "nbconvert_exporter": "python",
   "pygments_lexer": "ipython3",
   "version": "3.10.4"
  }
 },
 "nbformat": 4,
 "nbformat_minor": 5
}
